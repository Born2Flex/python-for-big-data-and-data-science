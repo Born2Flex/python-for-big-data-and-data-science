{
 "nbformat": 4,
 "nbformat_minor": 0,
 "metadata": {
  "colab": {
   "provenance": []
  },
  "kernelspec": {
   "name": "python3",
   "display_name": "Python 3 (ipykernel)",
   "language": "python"
  },
  "language_info": {
   "name": "python"
  }
 },
 "cells": [
  {
   "cell_type": "markdown",
   "source": [
    "# I. Functions. Arguments."
   ],
   "metadata": {
    "id": "kXpppdVm6wFy"
   }
  },
  {
   "cell_type": "markdown",
   "source": [
    "1. (5б) Назвіть основні 4 смислові  частини, з яких складається функція."
   ],
   "metadata": {
    "id": "u_krJdlbAkVz"
   }
  },
  {
   "cell_type": "markdown",
   "source": "Ключове слово def, ім'я функції, дужки з аргументами, тіло функції та return statement.",
   "metadata": {
    "id": "KKTrTXmHAptb"
   }
  },
  {
   "cell_type": "markdown",
   "source": [
    "2. (3б) Визначте функцію, що приймає 2 аргументи та повертає результат ділення 1го аргумента на інший."
   ],
   "metadata": {
    "id": "ORM4PqJQAtDM"
   }
  },
  {
   "cell_type": "code",
   "metadata": {
    "id": "EuDx-z8M6sLo",
    "colab": {
     "base_uri": "https://localhost:8080/"
    },
    "outputId": "f39bd528-a799-4ce1-e831-ba46925fc6a2",
    "ExecuteTime": {
     "end_time": "2025-03-08T13:48:53.084850Z",
     "start_time": "2025-03-08T13:48:53.070821Z"
    }
   },
   "source": [
    "def divide(num1, num2):\n",
    "  return num1 / num2\n",
    "\n",
    "res = divide(5, 10)\n",
    "print(res)"
   ],
   "outputs": [
    {
     "name": "stdout",
     "output_type": "stream",
     "text": [
      "0.5\n"
     ]
    }
   ],
   "execution_count": 1
  },
  {
   "cell_type": "markdown",
   "source": [
    "3. (2б) Викличте вище визначену функцію, де другий аргумент дорівнює 0."
   ],
   "metadata": {
    "id": "5joQGQ-SAyMe"
   }
  },
  {
   "cell_type": "code",
   "source": [
    "divide(10, 0)"
   ],
   "metadata": {
    "id": "V5cBV1LOA3d-",
    "colab": {
     "base_uri": "https://localhost:8080/",
     "height": 263
    },
    "outputId": "27be0f05-5472-48d0-b54e-06c946688069",
    "ExecuteTime": {
     "end_time": "2025-03-08T13:48:53.596916Z",
     "start_time": "2025-03-08T13:48:53.191718Z"
    }
   },
   "outputs": [
    {
     "ename": "ZeroDivisionError",
     "evalue": "division by zero",
     "output_type": "error",
     "traceback": [
      "\u001B[1;31m---------------------------------------------------------------------------\u001B[0m",
      "\u001B[1;31mZeroDivisionError\u001B[0m                         Traceback (most recent call last)",
      "Cell \u001B[1;32mIn[2], line 1\u001B[0m\n\u001B[1;32m----> 1\u001B[0m \u001B[43mdivide\u001B[49m\u001B[43m(\u001B[49m\u001B[38;5;241;43m10\u001B[39;49m\u001B[43m,\u001B[49m\u001B[43m \u001B[49m\u001B[38;5;241;43m0\u001B[39;49m\u001B[43m)\u001B[49m\n",
      "Cell \u001B[1;32mIn[1], line 2\u001B[0m, in \u001B[0;36mdivide\u001B[1;34m(num1, num2)\u001B[0m\n\u001B[0;32m      1\u001B[0m \u001B[38;5;28;01mdef\u001B[39;00m\u001B[38;5;250m \u001B[39m\u001B[38;5;21mdivide\u001B[39m(num1, num2):\n\u001B[1;32m----> 2\u001B[0m   \u001B[38;5;28;01mreturn\u001B[39;00m \u001B[43mnum1\u001B[49m\u001B[43m \u001B[49m\u001B[38;5;241;43m/\u001B[39;49m\u001B[43m \u001B[49m\u001B[43mnum2\u001B[49m\n",
      "\u001B[1;31mZeroDivisionError\u001B[0m: division by zero"
     ]
    }
   ],
   "execution_count": 2
  },
  {
   "cell_type": "markdown",
   "source": [
    "4. (4б) Перевизначте функцію так, щоби у випадку ділення на 0 функція повертала None, а в решті випадків - результат розрахунків."
   ],
   "metadata": {
    "id": "QyimWgW8A43-"
   }
  },
  {
   "cell_type": "code",
   "source": [
    "def divide(num1, num2):\n",
    "  if num2 != 0:\n",
    "    return num1 / num2\n",
    "  return None\n",
    "\n",
    "res = divide(10, 0)\n",
    "print(res)"
   ],
   "metadata": {
    "id": "7VIODtSjA8Ek",
    "colab": {
     "base_uri": "https://localhost:8080/"
    },
    "outputId": "03d2d01d-76c9-41fc-e9ca-c0eaa9103783"
   },
   "execution_count": 48,
   "outputs": [
    {
     "output_type": "stream",
     "name": "stdout",
     "text": [
      "None\n"
     ]
    }
   ]
  },
  {
   "cell_type": "markdown",
   "source": [
    "5. (5б) Визначте функцію, що віднімає одне число від іншого (підказка: це буде 2 аргументи функції). При чому, якщо не визначити, скільки саме має бути віднято від числа, за замовчуванням має відніматися 1. Викличте функцію, передаючи тільки один аргумент."
   ],
   "metadata": {
    "id": "Y8mN0GfkA81l"
   }
  },
  {
   "cell_type": "code",
   "source": [
    "def subtract(num1, num2=1):\n",
    "  return num1 - num2\n",
    "\n",
    "res = subtract(10)\n",
    "print(res)"
   ],
   "metadata": {
    "id": "vg1kxkdgBA50",
    "colab": {
     "base_uri": "https://localhost:8080/"
    },
    "outputId": "5b60355e-4a2e-4b7a-c45a-fab1195351f9"
   },
   "execution_count": 49,
   "outputs": [
    {
     "output_type": "stream",
     "name": "stdout",
     "text": [
      "9\n"
     ]
    }
   ]
  },
  {
   "cell_type": "markdown",
   "source": [
    "6. (7б) Визначте функцію, яка приймає iterable (ітерабельний обʼєкт, напр. список), що складається з 7ми рядкових значень - назв погодних умов (напр. \"sunny\") за кожен день у тижні. Повертає функція словник, де ключами є рядки з погодними умовами, а значеннями - кількість разів, скільки дана погода була протягом тижня (напр. {'sunny': 1, ...}). Викличте цю функцію та виведіть результат її роботи на екран."
   ],
   "metadata": {
    "id": "D3mwQGNOBBs4"
   }
  },
  {
   "cell_type": "code",
   "source": [
    "def get_statistics(data):\n",
    "    res = dict()\n",
    "    for elem in data:\n",
    "        res[elem] = res.get(elem, 0) + 1\n",
    "    return res\n",
    "\n",
    "data = [\"sunny\", \"windy\", \"clouds\", \"sunny\", \"clouds\", \"thunder\"]\n",
    "res = get_statistics(data)\n",
    "print(res)"
   ],
   "metadata": {
    "id": "OsWm-hKcBFyn",
    "colab": {
     "base_uri": "https://localhost:8080/"
    },
    "outputId": "df8dd3f5-63d9-43a4-985b-a82f3e9ff957"
   },
   "execution_count": 50,
   "outputs": [
    {
     "output_type": "stream",
     "name": "stdout",
     "text": [
      "{'sunny': 2, 'windy': 1, 'clouds': 2, 'thunder': 1}\n"
     ]
    }
   ]
  },
  {
   "cell_type": "markdown",
   "source": [
    "7. (15б) Напишіть програму, яка б шукала необхідне число у впорядкованому списку цілочислених значень, де\n",
    "число має вводитись з консолі.\n",
    "власне алгоритм пошуку винесений в окрему функцію, яка повертає булеве значення (знайдено число - True, не знайдено - False).\n",
    "в залежності від результату функції, виведіть на екран повідомлення про успішний або ж неуспішний пошук.\n",
    "Зауваження: використовувати оператор in заборонено."
   ],
   "metadata": {
    "id": "RMiCcdOsBKQT"
   }
  },
  {
   "cell_type": "code",
   "source": [
    "def search(sorted_list, target):\n",
    "    left = 0\n",
    "    right = len(sorted_list) - 1\n",
    "\n",
    "    while left <= right:\n",
    "        mid = (left + right)//2\n",
    "        if sorted_list[mid] == target:\n",
    "            return True\n",
    "        elif sorted_list[mid] < target:\n",
    "            left = mid + 1\n",
    "        else:\n",
    "            right = mid - 1\n",
    "    return False\n",
    "\n",
    "target = input(\"Num to search: \")\n",
    "\n",
    "if target.isdigit():\n",
    "    target = int(target)\n",
    "    sorted_list = [2, 5, 7, 10, 13, 15, 22, 23, 25, 31]\n",
    "    res = search(sorted_list, target)\n",
    "    if res:\n",
    "        print(f\"Num {target} found.\")\n",
    "    else:\n",
    "        print(\"Num not found.\")\n",
    "else:\n",
    "    print(\"Invalid input.\")"
   ],
   "metadata": {
    "id": "UNCZg65OBOy-",
    "colab": {
     "base_uri": "https://localhost:8080/"
    },
    "outputId": "e714bf29-b4c5-4338-b8a8-159c721fe5f9"
   },
   "execution_count": 51,
   "outputs": [
    {
     "output_type": "stream",
     "name": "stdout",
     "text": [
      "Number to search: 7\n",
      "Number 7 found.\n"
     ]
    }
   ]
  },
  {
   "cell_type": "markdown",
   "source": [
    "# II. Lambda functions."
   ],
   "metadata": {
    "id": "Ae1n_OvLBTsy"
   }
  },
  {
   "cell_type": "markdown",
   "source": [
    "8. (4б) В яких випадках варто використовувати лямбда-функції?"
   ],
   "metadata": {
    "id": "xaD_wSlaCWen"
   }
  },
  {
   "cell_type": "markdown",
   "source": [
    "Лямбда-функції зручно використовувати, коли потрібна коротка, одноразова функціональність (якщо треба швидко обробити кілька параметрів і повернути одне значення, не створюючи повноцінну функцію через def.). Також їх часто використовують в функціях map, filter та sorted."
   ],
   "metadata": {
    "id": "42MB6OoLCakR"
   }
  },
  {
   "cell_type": "markdown",
   "source": [
    "9. (9б) Визначте список з рядками. Після цього визначте анонімну функцію для отримання першого символу у верхньому регістрі для кожного рядка списку.\n",
    "Підказка: використовуйте анонімну функцію в якості агрумента до вбудованої ф-ції, яка створена для застосування функцій над iterable обʼєктами. Результат виведіть на екран у вигляді кортежу."
   ],
   "metadata": {
    "id": "USrzrk7GCedk"
   }
  },
  {
   "cell_type": "code",
   "source": [
    "my_list = [\"line\", \"text\", \"Python\", \"lambda\", \"etc\"]\n",
    "res = tuple(map(lambda word: word[0].upper(), my_list))\n",
    "\n",
    "print(res)"
   ],
   "metadata": {
    "id": "M8QWUsMlCjWH",
    "colab": {
     "base_uri": "https://localhost:8080/"
    },
    "outputId": "a70fd34c-a502-4ee2-af2a-a4f05a228a5f"
   },
   "execution_count": 20,
   "outputs": [
    {
     "output_type": "stream",
     "name": "stdout",
     "text": [
      "('L', 'T', 'P', 'L', 'E')\n"
     ]
    }
   ]
  },
  {
   "cell_type": "markdown",
   "source": [
    "10. (10б) Визначте список з числовими значеннями (і цілими, і з рухомою комою). а) Відфільтруйте всі числа, які діляться націло на 3 за допомогою вбудованої функції та анонімної функції в якості аргумента). Збережіть результат у змінній, не приводяти явно до будь-якого типу. б) Використовуючи результат на кроці 12.а у якості аргументу, та за допомогою лямбда-функції в якості іншого аргументу до вбудованої функції, додайте до кожного елементу число 1 та опісля зведіть у квадрат. Остаточний результат приведіть явно до списку та виведіть на екран."
   ],
   "metadata": {
    "id": "9fyUhXOoCtGp"
   }
  },
  {
   "cell_type": "code",
   "source": [
    "my_list = [1.21, 2340, 755, 123.321, 321, 1.001]\n",
    "res = filter(lambda num: num % 3 == 0, my_list)\n",
    "res = list(map(lambda num: (num + 1) ** 2, res))\n",
    "\n",
    "print(res)"
   ],
   "metadata": {
    "id": "exEx2_okCsql",
    "colab": {
     "base_uri": "https://localhost:8080/"
    },
    "outputId": "e96b7536-a864-4bf7-bf0a-73e24cb39a49"
   },
   "execution_count": 27,
   "outputs": [
    {
     "output_type": "stream",
     "name": "stdout",
     "text": [
      "[5480281, 103684]\n"
     ]
    }
   ]
  },
  {
   "cell_type": "markdown",
   "source": [
    "# III. Decorators."
   ],
   "metadata": {
    "id": "o_x8cG_WC7jp"
   }
  },
  {
   "cell_type": "markdown",
   "source": [
    "11. (11б) Визначте декоратор, який би виводив у консоль повідомлення про початок роботи і назву функції (напр. my_function._ _ name _ _), а після відпрацювання функції - повідомлення про закінчення роботи і назву функції, що задекорована."
   ],
   "metadata": {
    "id": "mhxS4-mfC8LQ"
   }
  },
  {
   "cell_type": "code",
   "source": [
    "def decorator(func):\n",
    "    def wrapper(*args, **kwargs):\n",
    "        print(f\"Start of function '{func.__name__}' execution\")\n",
    "        result = func(*args, **kwargs)\n",
    "        print(f\"End of function '{func.__name__}' execution\")\n",
    "        return result\n",
    "    return wrapper\n",
    "\n",
    "@decorator\n",
    "def decored_func():\n",
    "    print(\"This is function being decorated\")\n",
    "\n",
    "decored_func()"
   ],
   "metadata": {
    "id": "srd1ygWjDGhO",
    "colab": {
     "base_uri": "https://localhost:8080/"
    },
    "outputId": "e1cc0cb5-0b69-465c-e447-dbc84473cb7e"
   },
   "execution_count": 52,
   "outputs": [
    {
     "output_type": "stream",
     "name": "stdout",
     "text": [
      "Start of function 'decored_func' execution\n",
      "This is function being decorated\n",
      "End of function 'decored_func' execution\n"
     ]
    }
   ]
  },
  {
   "cell_type": "markdown",
   "source": [
    "12. (4б) Задекоруйте двома різними способами функції з завдання 4 та 5 декоратором із завдання 11. (**УВАГА**: не декоруйте функції двічі!)."
   ],
   "metadata": {
    "id": "rxGZwVBiDph3"
   }
  },
  {
   "cell_type": "code",
   "source": [
    "@decorator\n",
    "def divide(num1, num2):\n",
    "  if num2 != 0:\n",
    "    return num1 / num2\n",
    "  return None\n",
    "\n",
    "subtraction = decorator(subtract)"
   ],
   "metadata": {
    "id": "06lj7eq_DwZe"
   },
   "execution_count": 54,
   "outputs": []
  },
  {
   "cell_type": "markdown",
   "source": [
    "13. (2б) Викличте одну з задекорованих функцій і виведіть її результат на екран."
   ],
   "metadata": {
    "id": "P0ep1urBDzf-"
   }
  },
  {
   "cell_type": "code",
   "source": [
    "print(divide(10, 2))"
   ],
   "metadata": {
    "id": "1QvTw0ctD0S3",
    "colab": {
     "base_uri": "https://localhost:8080/"
    },
    "outputId": "27f2b12f-1448-40b5-dea5-37be9975e24c"
   },
   "execution_count": 55,
   "outputs": [
    {
     "output_type": "stream",
     "name": "stdout",
     "text": [
      "Start of function 'divide' execution\n",
      "End of function 'divide' execution\n",
      "5.0\n"
     ]
    }
   ]
  },
  {
   "cell_type": "markdown",
   "source": [
    "# IV. Recursion."
   ],
   "metadata": {
    "id": "poECCpuoD2S9"
   }
  },
  {
   "cell_type": "markdown",
   "source": [
    "14. (4б) Назвіть дві частини функції, які є обовʼязковими для того, щоб називати її рекурсивною."
   ],
   "metadata": {
    "id": "DqkURfdsD7MY"
   }
  },
  {
   "cell_type": "markdown",
   "source": [
    "Така функція має містити базовий випадок та рекурсивний виклик."
   ],
   "metadata": {
    "id": "HYW6ttIeIQIU"
   }
  },
  {
   "cell_type": "markdown",
   "source": [
    "15. (15б) Визначте функцію, яка рекурсивно реалізовує пошук числа у послідовності Фібоначчі за її індексом (нумерація починається з нуля). Наприклад, потрібно знайти перше число у послідовності, тоді функція прийматиме 0 у якості аргумента і повертатиме 1, якщо ж знаходити третє число (індекс 2) послідовності, то функція повертатиме 2, якщо ж знаходити десяте число (індекс 9), то функція повертатиме 55."
   ],
   "metadata": {
    "id": "WYVt20UmEA35"
   }
  },
  {
   "cell_type": "code",
   "source": [
    "def fibonacci(n):\n",
    "    if n < 0:\n",
    "        return None\n",
    "    elif n <= 1:\n",
    "        return 1\n",
    "    else:\n",
    "        return fibonacci(n - 1) + fibonacci(n - 2)\n",
    "\n",
    "for i in range(5,10):\n",
    "    print(f\"Fibonacci number {i}: {fibonacci(i)}\")"
   ],
   "metadata": {
    "id": "xIMhp05AIpV_",
    "colab": {
     "base_uri": "https://localhost:8080/"
    },
    "outputId": "1ac549f9-c885-4122-f751-0509bff2f85f"
   },
   "execution_count": 56,
   "outputs": [
    {
     "output_type": "stream",
     "name": "stdout",
     "text": [
      "Fibonacci number 5: 8\n",
      "Fibonacci number 6: 13\n",
      "Fibonacci number 7: 21\n",
      "Fibonacci number 8: 34\n",
      "Fibonacci number 9: 55\n"
     ]
    }
   ]
  },
  {
   "cell_type": "markdown",
   "source": [
    "# Вітаю! Ви велика(ий) молодець, що впоралась(вся). Похваліть себе та побалуйте чимось приємним. Я Вами пишаюся."
   ],
   "metadata": {
    "id": "ytXC8n_4Ip0W"
   }
  }
 ]
}
