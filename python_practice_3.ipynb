{
 "nbformat": 4,
 "nbformat_minor": 0,
 "metadata": {
  "colab": {
   "provenance": []
  },
  "kernelspec": {
   "name": "python3",
   "display_name": "Python 3 (ipykernel)",
   "language": "python"
  },
  "language_info": {
   "name": "python"
  }
 },
 "cells": [
  {
   "cell_type": "markdown",
   "source": [
    "# I. Оператори порівняння та логічні оператори. Умови."
   ],
   "metadata": {
    "id": "qDEi2Pi-4yUC"
   }
  },
  {
   "cell_type": "markdown",
   "source": [
    "1. (5б) Створіть цілочисленну змінну зі своїм щасливим або улюбленим числом. Напишіть код, який би автоматизовував наступну задачу.\n",
    "\n",
    "Якщо число парне, помножте його на 2 та виведіть результат на екран.\n",
    "\n",
    "Але якщо число непарне, помножте його на 3 та додайте 1 і виведіть на екран."
   ],
   "metadata": {
    "id": "3v8D4Dkm43Ua"
   }
  },
  {
   "cell_type": "code",
   "metadata": {
    "id": "dlVjc-Nu4bmb",
    "colab": {
     "base_uri": "https://localhost:8080/"
    },
    "outputId": "f6a86f2c-b497-47cb-a105-bc0c712ca5e7",
    "ExecuteTime": {
     "end_time": "2025-03-02T16:09:28.473878Z",
     "start_time": "2025-03-02T16:09:28.468951Z"
    }
   },
   "source": [
    "my_num = 16\n",
    "\n",
    "if my_num % 2 == 0:\n",
    "  my_num *= 2\n",
    "else:\n",
    "  my_num = my_num * 3 + 1\n",
    "print(my_num)"
   ],
   "outputs": [
    {
     "name": "stdout",
     "output_type": "stream",
     "text": [
      "32\n"
     ]
    }
   ],
   "execution_count": 2
  },
  {
   "cell_type": "markdown",
   "source": [
    "2. (9б) Створіть змінну, що посилається на список. Якщо список пустий, додайте будь-який елемент у кінець списку. Якщо ж ні, то нічого не робіть."
   ],
   "metadata": {
    "id": "H669P0QK5BI_"
   }
  },
  {
   "cell_type": "code",
   "source": [
    "my_list = []\n",
    "\n",
    "if not my_list:\n",
    "  my_list.append(6)\n",
    "\n",
    "print(my_list)"
   ],
   "metadata": {
    "id": "ecWlfra45f6E",
    "colab": {
     "base_uri": "https://localhost:8080/"
    },
    "outputId": "0ca43249-eb92-4fee-ff9c-24d0c7c9f16f",
    "ExecuteTime": {
     "end_time": "2025-03-02T16:09:31.859925Z",
     "start_time": "2025-03-02T16:09:31.853140Z"
    }
   },
   "outputs": [
    {
     "name": "stdout",
     "output_type": "stream",
     "text": [
      "[6]\n"
     ]
    }
   ],
   "execution_count": 3
  },
  {
   "cell_type": "markdown",
   "source": [
    "3. (13б) Створіть рядок зі своїм імʼям латинкою. Напишіть код, який би автоматизовував наступну задачу.\n",
    "\n",
    "Якщо в імені є літера \"а\"\n",
    " або \"i\", Виведіть на екран повідомлення \"A or I is in the name\".\n",
    "\n",
    "\n",
    "\n",
    "Якщо в імені є літери \"o\" та \"n\", Виведіть на екран повідомлення \"O and N is in the name\".\n",
    "\n",
    "Також якщо в імені немає літери \"о\", але є \"n\", Виведіть на екран повідомлення \"Only N is in the name\".\n",
    "\n",
    "В решті випадків виведіть на екран повідомлення \"There is no N in the name, but there might be O\".\n",
    "\n",
    "Зверніть увагу, що, наприклад, для імені \"Antonina\" буде виведено два повідомлення."
   ],
   "metadata": {
    "id": "h9Y3cMUd5h85"
   }
  },
  {
   "cell_type": "code",
   "source": [
    "my_name = \"Danylo\"\n",
    "# my_name = \"Antonina\"\n",
    "\n",
    "if 'a' in my_name or 'i' in my_name:\n",
    "  print(\"A or I is in the name\")\n",
    "if 'o' in my_name and 'n' in my_name:\n",
    "  print(\"O and N is in the name\")\n",
    "elif  'n' in my_name and 'o' not in my_name:\n",
    "  print(\"Only N is in the name\")\n",
    "else:\n",
    "  print(\"There is no N in the name, but there might be O\")"
   ],
   "metadata": {
    "id": "bUH4LUx35u52",
    "colab": {
     "base_uri": "https://localhost:8080/"
    },
    "outputId": "ef4dce32-b0e3-46a8-b43c-f709a54bd63e",
    "ExecuteTime": {
     "end_time": "2025-03-02T16:09:35.099311Z",
     "start_time": "2025-03-02T16:09:35.094233Z"
    }
   },
   "outputs": [
    {
     "name": "stdout",
     "output_type": "stream",
     "text": [
      "A or I is in the name\n",
      "O and N is in the name\n"
     ]
    }
   ],
   "execution_count": 4
  },
  {
   "cell_type": "markdown",
   "source": [
    "# II. Comprehensions."
   ],
   "metadata": {
    "id": "wPCXJv4354cU"
   }
  },
  {
   "cell_type": "markdown",
   "source": [
    "4. (5б) Створіть список, використовуючи if (не if-else), range та comprehension."
   ],
   "metadata": {
    "id": "jULLW5jN55Pw"
   }
  },
  {
   "cell_type": "code",
   "source": [
    "my_list = [num for num in range(10) if num % 2 == 0]\n",
    "print(my_list)"
   ],
   "metadata": {
    "id": "mlZalnVC6W3F",
    "colab": {
     "base_uri": "https://localhost:8080/"
    },
    "outputId": "fd7a5172-6f51-4734-fdc4-96d21f4121a4",
    "ExecuteTime": {
     "end_time": "2025-03-02T16:09:38.038099Z",
     "start_time": "2025-03-02T16:09:38.032089Z"
    }
   },
   "outputs": [
    {
     "name": "stdout",
     "output_type": "stream",
     "text": [
      "[0, 2, 4, 6, 8]\n"
     ]
    }
   ],
   "execution_count": 5
  },
  {
   "cell_type": "markdown",
   "source": [
    "5. (9б) Створіть словник, використовуючи dict comprehension, що містить if else. Коли слід використовувати comprehensions, а коли їх слід уникати?"
   ],
   "metadata": {
    "id": "LqhEQ4JW6XcC"
   }
  },
  {
   "cell_type": "code",
   "source": [
    "my_dict = {i: 'Even' if i % 2 == 0 else 'Odd' for i in range(15)}\n",
    "print(my_dict)"
   ],
   "metadata": {
    "id": "1yVaFbOs6hta",
    "colab": {
     "base_uri": "https://localhost:8080/"
    },
    "outputId": "540aad82-b550-455a-9ee0-59b7f5971e94",
    "ExecuteTime": {
     "end_time": "2025-03-02T16:09:41.425297Z",
     "start_time": "2025-03-02T16:09:41.420780Z"
    }
   },
   "outputs": [
    {
     "name": "stdout",
     "output_type": "stream",
     "text": [
      "{0: 'Even', 1: 'Odd', 2: 'Even', 3: 'Odd', 4: 'Even', 5: 'Odd', 6: 'Even', 7: 'Odd', 8: 'Even', 9: 'Odd', 10: 'Even', 11: 'Odd', 12: 'Even', 13: 'Odd', 14: 'Even'}\n"
     ]
    }
   ],
   "execution_count": 6
  },
  {
   "cell_type": "markdown",
   "source": [
    "comprehensions слід використовувати, коли вони можуть зробити код більш зрозумілим та простим. Їх варто уникати, коли в програмі присутня велика кількість умов, певна складна логіка, та вкладеності, тоді comprehensions можуть погіршити читабельність коду, тому їх треба уникати в таких випадках."
   ],
   "metadata": {
    "id": "wbkzNhKq6hzz"
   }
  },
  {
   "cell_type": "markdown",
   "source": [
    "6. (9б) Створіть список з рядками та запишіть його у змінну. Створіть ще один список на основі попереднього, де кожен рядок буде містити тільки три перших заглавних символи. Наприклад: ['hello', 'i', 'dont', 'care'] -> ['HEL', 'I', 'DON', 'CAR']. Використання comprehensions обовʼязкове."
   ],
   "metadata": {
    "id": "ZlqB8G3G6lHP"
   }
  },
  {
   "cell_type": "code",
   "source": [
    "text = \"Hello I dont care :)\"\n",
    "first_list = [word for word in text.split()]\n",
    "second_list = [word[:3].upper() for word in first_list]\n",
    "print(f\"{first_list} -> {second_list}\")"
   ],
   "metadata": {
    "id": "nw6rz0bR60VC",
    "colab": {
     "base_uri": "https://localhost:8080/"
    },
    "outputId": "ccb4477d-149c-4f8d-e3c3-be08cdbc8680",
    "ExecuteTime": {
     "end_time": "2025-03-02T16:09:44.267335Z",
     "start_time": "2025-03-02T16:09:44.261923Z"
    }
   },
   "outputs": [
    {
     "name": "stdout",
     "output_type": "stream",
     "text": [
      "['Hello', 'I', 'dont', 'care', ':)'] -> ['HEL', 'I', 'DON', 'CAR', ':)']\n"
     ]
    }
   ],
   "execution_count": 7
  },
  {
   "cell_type": "markdown",
   "source": [
    "# III. Цикли."
   ],
   "metadata": {
    "id": "Tj573IAH64Fz"
   }
  },
  {
   "cell_type": "markdown",
   "source": [
    "7. (5б) Продемонструйте роботу циклу while. Не можна використовувати True для запуску циклу, щоб уникнути безкінечного циклу!"
   ],
   "metadata": {
    "id": "tN_33xdE65H5"
   }
  },
  {
   "cell_type": "code",
   "source": [
    "num = 50\n",
    "while num > 0:\n",
    "  num -= 10\n",
    "  print(num)\n",
    "print(\"End of while loop\")"
   ],
   "metadata": {
    "id": "Kd9FO6yG63P5",
    "colab": {
     "base_uri": "https://localhost:8080/"
    },
    "outputId": "fd4d6b8b-18ce-4a72-d764-860fed6c8b21",
    "ExecuteTime": {
     "end_time": "2025-03-02T16:09:46.654181Z",
     "start_time": "2025-03-02T16:09:46.649591Z"
    }
   },
   "outputs": [
    {
     "name": "stdout",
     "output_type": "stream",
     "text": [
      "40\n",
      "30\n",
      "20\n",
      "10\n",
      "0\n",
      "End of while loop\n"
     ]
    }
   ],
   "execution_count": 8
  },
  {
   "cell_type": "markdown",
   "source": [
    "8. (5б) Напишіть програму, яка виведе на екран непарні числа в діапазоні від 0 до 20 включно."
   ],
   "metadata": {
    "id": "x2CmfZO-7pW0"
   }
  },
  {
   "cell_type": "code",
   "source": [
    "start = 0\n",
    "end = 20\n",
    "print(f\"Odd numbers from {start} to {end} inclusively\")\n",
    "for num in range(start, end + 1):\n",
    "  if num % 2 == 1:\n",
    "    print(num)"
   ],
   "metadata": {
    "id": "aCSRYA6s7tkF",
    "colab": {
     "base_uri": "https://localhost:8080/"
    },
    "outputId": "a25461ec-e692-4c88-f128-ce3c6c5549e2",
    "ExecuteTime": {
     "end_time": "2025-03-02T16:09:50.219599Z",
     "start_time": "2025-03-02T16:09:50.213606Z"
    }
   },
   "outputs": [
    {
     "name": "stdout",
     "output_type": "stream",
     "text": [
      "Odd numbers from 0 to 20 inclusively\n",
      "1\n",
      "3\n",
      "5\n",
      "7\n",
      "9\n",
      "11\n",
      "13\n",
      "15\n",
      "17\n",
      "19\n"
     ]
    }
   ],
   "execution_count": 9
  },
  {
   "cell_type": "markdown",
   "source": [
    "9. (13б) Створіть список з елементами булевого типу або None. Використовуючи цикли, отримайте в результаті список з кортежами, де перший елемент кортежу - індекс(ціле число), а другий елемент - відповідне значення з першого списку.\n",
    "\n",
    "Наприклад, [True, True, None, False] -> [(0, True), (1, True), (2, None), (3, False)]"
   ],
   "metadata": {
    "id": "MDWNocZD7t_B"
   }
  },
  {
   "cell_type": "code",
   "source": [
    "first_list = [True, None, None, False, True, False]\n",
    "result_list = []\n",
    "\n",
    "for i, elem in enumerate(first_list):\n",
    "  result_list.append((i, elem))\n",
    "print(result_list)\n",
    "\n",
    "# Alternative option\n",
    "# result_list = list(zip(range(len(first_list)), first_list))\n",
    "# print(result_list)"
   ],
   "metadata": {
    "id": "0EUyjMdp7yfh",
    "colab": {
     "base_uri": "https://localhost:8080/"
    },
    "outputId": "a8f95206-c920-4a0c-f6fd-e4c903ea4a72",
    "ExecuteTime": {
     "end_time": "2025-03-02T16:10:10.031771Z",
     "start_time": "2025-03-02T16:10:10.027248Z"
    }
   },
   "outputs": [
    {
     "name": "stdout",
     "output_type": "stream",
     "text": [
      "[(0, True), (1, None), (2, None), (3, False), (4, True), (5, False)]\n"
     ]
    }
   ],
   "execution_count": 11
  },
  {
   "cell_type": "markdown",
   "source": [
    "10. (9б) Створіть словник, де ключі - назви книжок, а значення - їхня кількість у наявності в Вашій міні-бібліотеці. Бібліотека має містити щонайменше 6 книжок (6 пар значень у словнику) і щонайбільше 10 (пар значень). Використовуючи цикли, оновіть словник (не створюйте новий) так, щоби кількість книг у наявності збільшилося на 5 кожної книги. Наприклад,\n",
    "{'It': 3, 'Fault stars': 10, 'Bible': 17, 'Psychological romance': 4, 'Harry Potter': 13} -> {'It': 8, 'Fault stars': 15, 'Bible': 22, 'Psychological romance': 9, 'Harry Potter': 18}"
   ],
   "metadata": {
    "id": "-6XUqlcG7zKs"
   }
  },
  {
   "cell_type": "code",
   "source": [
    "library = {'It': 3, 'Fault stars': 10, 'Bible': 17, 'Psychological romance': 4, 'Harry Potter': 13, 'Dorian Grey': 2, 'Sherlok Holmes': 10, 'Tom Soyer': 15}\n",
    "\n",
    "for key in library.keys():\n",
    "  library[key] += 5\n",
    "\n",
    "print(library)"
   ],
   "metadata": {
    "id": "Ceoj9wwb791q",
    "colab": {
     "base_uri": "https://localhost:8080/"
    },
    "outputId": "158c0b21-e2c9-42cf-83b6-343eaead94a4",
    "ExecuteTime": {
     "end_time": "2025-03-02T16:10:17.306873Z",
     "start_time": "2025-03-02T16:10:17.300680Z"
    }
   },
   "outputs": [
    {
     "name": "stdout",
     "output_type": "stream",
     "text": [
      "{'It': 8, 'Fault stars': 15, 'Bible': 22, 'Psychological romance': 9, 'Harry Potter': 18, 'Dorian Grey': 7, 'Sherlok Holmes': 15, 'Tom Soyer': 20}\n"
     ]
    }
   ],
   "execution_count": 12
  },
  {
   "cell_type": "markdown",
   "source": [
    "11. (5б) Визначте цілочислену змінну n, що належить проміжку від 4 до 10 включно. Використовуючи цикли, виведіть в консоль наступний патерн.\n",
    "\n",
    "#\n",
    "##\n",
    "###\n",
    "####\n",
    "\n",
    "... #*n\n"
   ],
   "metadata": {
    "id": "QLzyJM288AC7"
   }
  },
  {
   "metadata": {
    "id": "KOpng87s8Duz",
    "colab": {
     "base_uri": "https://localhost:8080/"
    },
    "outputId": "dcf8aaae-b7a8-4b5e-950b-fa02c94fb4ea",
    "ExecuteTime": {
     "end_time": "2025-03-02T16:10:45.677045Z",
     "start_time": "2025-03-02T16:10:45.670540Z"
    }
   },
   "cell_type": "code",
   "source": [
    "num = 5\n",
    "\n",
    "for n in range(num):\n",
    "  print(\"#\" * (n + 1))"
   ],
   "outputs": [
    {
     "name": "stdout",
     "output_type": "stream",
     "text": [
      "#\n",
      "##\n",
      "###\n",
      "####\n",
      "#####\n"
     ]
    }
   ],
   "execution_count": 15
  },
  {
   "cell_type": "markdown",
   "source": [
    "12. (13б) Гра \"Нумо вгадай\".\n",
    "Розробіть просту гру, де користувач має вгадати випадкове число від 1 до 100. Для генерації випадкового числа використовуйте функцію random.randint(a, b) (тут a та b включно). Для отримання числа з консолі використовуйте функцію input(), результат якої обовʼязково явно приведіть до типу int.\n",
    "\n",
    "Підказка: використовуйте цикл while та умови if-else, щоб повідомити користувачу піказки (напр. \"Більше\", \"Менше\") поки користувач не вгадає. По завершенню виведіть кількість спроб, які знадобилися для вгадування."
   ],
   "metadata": {
    "id": "_bd-bqAT8EHn"
   }
  },
  {
   "cell_type": "code",
   "source": [
    "import random\n",
    "\n",
    "guessed_number = random.randint(0, 100)\n",
    "counter = 0\n",
    "user_num = -1\n",
    "while user_num != guessed_number:\n",
    "  counter += 1\n",
    "  user_input = input(\"Введіть, будь ласка, число: \")\n",
    "  if user_input.isdigit():\n",
    "    user_num = int(user_input)\n",
    "    if user_num < guessed_number:\n",
    "      print(\"Загадане число БІЛЬШЕ вашого\")\n",
    "    elif user_num > guessed_number:\n",
    "      print(\"Загадане число МЕНШЕ вашого\")\n",
    "    else:\n",
    "      break\n",
    "  else:\n",
    "    print(\"Введіть коректне число!\")\n",
    "print(f\"Вітаю! Ви вгадали число {guessed_number} за {counter} спроб\")\n"
   ],
   "metadata": {
    "id": "IK9nnxFK8Hkl",
    "colab": {
     "base_uri": "https://localhost:8080/"
    },
    "outputId": "28007d2a-1b3a-43ab-ba1f-e1c30fb69253",
    "ExecuteTime": {
     "end_time": "2025-03-02T16:12:49.673023Z",
     "start_time": "2025-03-02T16:12:18.859380Z"
    }
   },
   "outputs": [
    {
     "name": "stdout",
     "output_type": "stream",
     "text": [
      "Загадане число МЕНШЕ вашого\n",
      "Загадане число МЕНШЕ вашого\n",
      "Загадане число БІЛЬШЕ вашого\n",
      "Вітаю! Ви вгадали число 45 за 4 спроб\n"
     ]
    }
   ],
   "execution_count": 18
  },
  {
   "cell_type": "markdown",
   "source": [
    "# Вітаю! Ви велика(ий) молодець, що впоралась(вся). Похваліть себе та побалуйте чимось приємним. Я Вами пишаюся."
   ],
   "metadata": {
    "id": "PXoXWb7Z8IGi"
   }
  }
 ]
}
